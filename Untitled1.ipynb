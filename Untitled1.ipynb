{
 "cells": [
  {
   "cell_type": "code",
   "execution_count": null,
   "id": "fcb67aff",
   "metadata": {},
   "outputs": [],
   "source": [
    "import cv2\n",
    "model = cv2.CascadeClassifier(r\"F:\\project\\haarcascade_frontalface_default.xml\")\n",
    "Webcam = cv2.VideoCapture(0)\n",
    "while True:\n",
    "    ret,img = Webcam.read()\n",
    "    faces= model.detectMultiScale(img)\n",
    "    for(x, y, weigth, height) in faces:\n",
    "        cv2.rectangle(img, (x, y),(x+weigth, y+height), (0, 255, 255), 2)\n",
    "    cv2.imshow(\"Koolac\",img)\n",
    "    key=cv2.waitKey(1)\n",
    "    if key== ord('q'):\n",
    "        break\n",
    "Webcam.release()\n",
    "cv2.destoryAllWindows()"
   ]
  },
  {
   "cell_type": "code",
   "execution_count": null,
   "id": "42f9e16b",
   "metadata": {},
   "outputs": [],
   "source": []
  },
  {
   "cell_type": "code",
   "execution_count": null,
   "id": "19abaea4",
   "metadata": {},
   "outputs": [],
   "source": []
  }
 ],
 "metadata": {
  "kernelspec": {
   "display_name": "Python 3 (ipykernel)",
   "language": "python",
   "name": "python3"
  },
  "language_info": {
   "codemirror_mode": {
    "name": "ipython",
    "version": 3
   },
   "file_extension": ".py",
   "mimetype": "text/x-python",
   "name": "python",
   "nbconvert_exporter": "python",
   "pygments_lexer": "ipython3",
   "version": "3.9.7"
  }
 },
 "nbformat": 4,
 "nbformat_minor": 5
}
